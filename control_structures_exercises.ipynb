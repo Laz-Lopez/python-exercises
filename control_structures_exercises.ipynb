{
 "cells": [
  {
   "cell_type": "code",
   "execution_count": 1,
   "id": "d2e58fca",
   "metadata": {},
   "outputs": [
    {
     "name": "stdout",
     "output_type": "stream",
     "text": [
      "I like coffee!\n",
      "Coffee is the best!\n"
     ]
    }
   ],
   "source": [
    "i_like_coffee = True\n",
    "\n",
    "if i_like_coffee:\n",
    "    print('I like coffee!')\n",
    "    print('Coffee is the best!')\n"
   ]
  },
  {
   "cell_type": "code",
   "execution_count": 2,
   "id": "7895966d",
   "metadata": {},
   "outputs": [
    {
     "name": "stdout",
     "output_type": "stream",
     "text": [
      "Looks like a nice, sunny day!\n"
     ]
    }
   ],
   "source": [
    "it_is_raining = False\n",
    "\n",
    "if it_is_raining:\n",
    "    print('Better bring an umbrella!')\n",
    "else:\n",
    "    print('Looks like a nice, sunny day!')\n"
   ]
  },
  {
   "cell_type": "code",
   "execution_count": 3,
   "id": "16d690cd",
   "metadata": {},
   "outputs": [
    {
     "name": "stdout",
     "output_type": "stream",
     "text": [
      "Middle of the road, huh?\n"
     ]
    }
   ],
   "source": [
    "coffee_preference = 'medium'\n",
    "\n",
    "if coffee_preference == 'dark':\n",
    "    print('I love a good dark roast!')\n",
    "elif coffee_preference == 'medium':\n",
    "    print('Middle of the road, huh?')\n",
    "elif coffee_preference == 'light':\n",
    "    print('Light roast has the most caffeine!')\n",
    "else:\n",
    "    print('How about some tea then?')\n"
   ]
  },
  {
   "cell_type": "code",
   "execution_count": 4,
   "id": "b31b7b2b",
   "metadata": {},
   "outputs": [
    {
     "name": "stdout",
     "output_type": "stream",
     "text": [
      "1\n",
      "2\n",
      "3\n"
     ]
    }
   ],
   "source": [
    "for number in range(1, 4):\n",
    "    print(number)\n"
   ]
  },
  {
   "cell_type": "code",
   "execution_count": 5,
   "id": "9594defb",
   "metadata": {},
   "outputs": [
    {
     "name": "stdout",
     "output_type": "stream",
     "text": [
      "a\n",
      "b\n",
      "c\n",
      "d\n",
      "e\n"
     ]
    }
   ],
   "source": [
    "for letter in 'abcde':\n",
    "    print(letter)\n"
   ]
  },
  {
   "cell_type": "code",
   "execution_count": 6,
   "id": "13fa937c",
   "metadata": {},
   "outputs": [
    {
     "name": "stdout",
     "output_type": "stream",
     "text": [
      "bash is a nice programming language\n",
      "python is a nice programming language\n",
      "R is a nice programming language\n",
      "clojure is a nice programming language\n"
     ]
    }
   ],
   "source": [
    "languages = ['bash', 'python', 'R', 'clojure']\n",
    "\n",
    "for programming_language in languages:\n",
    "    print(f'{programming_language} is a nice programming language')\n"
   ]
  },
  {
   "cell_type": "code",
   "execution_count": 7,
   "id": "004c94ac",
   "metadata": {},
   "outputs": [
    {
     "name": "stdout",
     "output_type": "stream",
     "text": [
      "bash is a nice programming language\n",
      "python is my favorite!\n",
      "R is a nice programming language\n",
      "clojure is a nice programming language\n"
     ]
    }
   ],
   "source": [
    "for programming_language in languages:\n",
    "    if programming_language == 'python':\n",
    "        print(f'{programming_language} is my favorite!')\n",
    "    else:\n",
    "        print(f'{programming_language} is a nice programming language')\n"
   ]
  },
  {
   "cell_type": "code",
   "execution_count": 8,
   "id": "0d03805a",
   "metadata": {},
   "outputs": [
    {
     "name": "stdout",
     "output_type": "stream",
     "text": [
      "5\n",
      "6\n",
      "7\n",
      "8\n",
      "9\n",
      "10\n"
     ]
    }
   ],
   "source": [
    "i = 5\n",
    "#sets number of loops\n",
    "while i <= 10:\n",
    "    #counter for loops because 5 is less than 10\n",
    "    print(i)\n",
    "    i += 1\n",
    "# so it should print a stream vertically"
   ]
  },
  {
   "cell_type": "code",
   "execution_count": 9,
   "id": "2423599b",
   "metadata": {},
   "outputs": [
    {
     "name": "stdout",
     "output_type": "stream",
     "text": [
      "0\n",
      "1\n",
      "2\n",
      "3\n",
      "4\n",
      "5\n",
      "6\n",
      "7\n",
      "8\n",
      "9\n",
      "10\n",
      "11\n"
     ]
    }
   ],
   "source": [
    "for n in range(100_000):\n",
    "    #creates loop\n",
    "    print(n)\n",
    "    #starts loop\n",
    "    if n > 10:\n",
    "        break\n",
    "# stops loop"
   ]
  },
  {
   "cell_type": "code",
   "execution_count": 10,
   "id": "c2accc79",
   "metadata": {},
   "outputs": [
    {
     "name": "stdout",
     "output_type": "stream",
     "text": [
      "Here is an odd number: 1\n",
      "Here is an odd number: 3\n",
      "Here is an odd number: 5\n",
      "Here is an odd number: 7\n",
      "Here is an odd number: 9\n"
     ]
    }
   ],
   "source": [
    "for n in range(10):\n",
    "    if n % 2 == 0:\n",
    "        continue\n",
    "    print(f'Here is an odd number: {n}')\n"
   ]
  },
  {
   "cell_type": "code",
   "execution_count": 1,
   "id": "3e17042e",
   "metadata": {},
   "outputs": [
    {
     "name": "stdout",
     "output_type": "stream",
     "text": [
      "age average: 29.00\n",
      "is_vegetarian is not numeric, skipping\n",
      "shoe size average: 8.86\n",
      "ISP is not numeric, skipping\n",
      "BMI average: 23.90\n"
     ]
    }
   ],
   "source": [
    "dataset = [{'name': 'age', 'type': 'int', 'data': [20, 25, 43, 11, 15, 53, 36]},\n",
    "           {'name': 'is_vegetarian', 'type': 'boolean', 'data': [False, True, False, False, True, False, False]},\n",
    "           {'name': 'shoe size', 'type': 'int', 'data': [8, 11, 7, 10, 7, 9, 10]},\n",
    "           {'name': 'ISP', 'type': 'categorical', 'data': ['AT&T', 'Spectrum', 'Spectrum', 'Spectrum', 'AT&T', 'Spectrum', 'AT&T']},\n",
    "           {'name': 'BMI', 'type': 'float', 'data': [29.9, 20.4, 23.3, 21.7, 22.2, 22.8, 27.0]}]\n",
    "\n",
    "# print the means for the numeric data\n",
    "for feature in dataset:\n",
    "    if feature['type'] == 'categorical' or feature['type'] == 'boolean':\n",
    "        print(f\"{feature['name']} is not numeric, skipping\")\n",
    "        continue\n",
    "    avg = sum(feature['data']) / len(feature['data'])\n",
    "    print(f\"{feature['name']} average: {avg:.2f}\") # the :.2f formats the decimal to 2 places.\n"
   ]
  },
  {
   "cell_type": "code",
   "execution_count": 1,
   "id": "d8b53cf9",
   "metadata": {},
   "outputs": [
    {
     "name": "stdout",
     "output_type": "stream",
     "text": [
      "What day of the week is it?Monday\n",
      "Today is Monday...\n"
     ]
    }
   ],
   "source": [
    "\n",
    "#Conditional Basics\n",
    "\n",
    "# prompt the user for a day of the week, print out whether the day is Monday or not\n",
    "\n",
    "x = input(\"What day of the week is it?\")\n",
    "#this creates a x variable for the user entry\n",
    "if x.lower() == \"monday\":\n",
    "    #simple if statement\n",
    "    print(\"Today is Monday...\")\n",
    "else:\n",
    "    print(\"Today is not a Monday!\")"
   ]
  },
  {
   "cell_type": "code",
   "execution_count": 6,
   "id": "f615b138",
   "metadata": {},
   "outputs": [
    {
     "name": "stdout",
     "output_type": "stream",
     "text": [
      "What day of the week is it?day\n",
      "Not a valid day\n"
     ]
    }
   ],
   "source": [
    "#prompt the user for a day of the week, print out whether the day is a weekday or a weekend\n",
    "x = input(\"What day of the week is it?\")\n",
    "#this creates a x variable for the user entry\n",
    "if x.lower() == \"Saturday\" or x.lower() == \"Sunday\":\n",
    "    #simple if statement\n",
    "    print(\"It's the weekend!\")\n",
    "elif x.lower() == \"monday\" or  x.lower() == \"tuesday\" or  x.lower() == \"wednsday\" or x.lower() == \"thursday\" or  x.lower()== \"friday\":\n",
    "    print(\"It's a weekday.\")\n",
    "else:\n",
    "    print(\"Not a valid day\")"
   ]
  },
  {
   "cell_type": "code",
   "execution_count": 9,
   "id": "127b7f43",
   "metadata": {},
   "outputs": [
    {
     "name": "stdout",
     "output_type": "stream",
     "text": [
      "How many hours did you work this week?41\n",
      "You worked Over 40 hours, Your pay is 637.5\n"
     ]
    }
   ],
   "source": [
    "# create variables and make up values for\n",
    "\n",
    "# the number of hours worked in one week\n",
    "# the hourly rate\n",
    "# how much the week's paycheck will be\n",
    "# write the python code that calculates the weekly paycheck. You get paid time and a half if you work more than 40 hours\n",
    "time = input(\"How many hours did you work this week?\")\n",
    "pay_rate = 15\n",
    "if time.isnumeric() == True:\n",
    "    hours = int(time)\n",
    "    if hours < 40 and hours > 0:\n",
    "        print(f\"Your pay this week is: ${hours * pay_rate}\")\n",
    "    elif hours > 40:\n",
    "        ot = hours - 40\n",
    "        ot_pay = pay_rate * 1.5\n",
    "        total_ot = ot_pay * ot\n",
    "        print(f\"You worked Over 40 hours, Your pay is {hours * pay_rate + total_ot}\")\n",
    "else:\n",
    "    print(\"Please enter a valid numeric value.\")\n",
    "\n"
   ]
  },
  {
   "cell_type": "code",
   "execution_count": 10,
   "id": "9b243fc1",
   "metadata": {},
   "outputs": [
    {
     "name": "stdout",
     "output_type": "stream",
     "text": [
      "5\n",
      "6\n",
      "7\n",
      "8\n",
      "9\n",
      "10\n",
      "11\n",
      "12\n",
      "13\n",
      "14\n",
      "15\n"
     ]
    }
   ],
   "source": [
    "# While\n",
    "\n",
    "# Create an integer variable i with a value of 5.\n",
    "# Create a while loop that runs so long as i is less than or equal to 15\n",
    "# Each loop iteration, output the current value of i, then increment i by one.\n",
    "i = 5\n",
    "while i <= 15:\n",
    "    print(i)\n",
    "    i +=1"
   ]
  },
  {
   "cell_type": "code",
   "execution_count": 13,
   "id": "df0f512c",
   "metadata": {},
   "outputs": [
    {
     "name": "stdout",
     "output_type": "stream",
     "text": [
      "0\n",
      "2\n",
      "4\n",
      "6\n",
      "8\n",
      "10\n",
      "12\n",
      "14\n",
      "16\n",
      "18\n",
      "20\n",
      "22\n",
      "24\n",
      "26\n",
      "28\n",
      "30\n",
      "32\n",
      "34\n",
      "36\n",
      "38\n",
      "40\n",
      "42\n",
      "44\n",
      "46\n",
      "48\n",
      "50\n",
      "52\n",
      "54\n",
      "56\n",
      "58\n",
      "60\n",
      "62\n",
      "64\n",
      "66\n",
      "68\n",
      "70\n",
      "72\n",
      "74\n",
      "76\n",
      "78\n",
      "80\n",
      "82\n",
      "84\n",
      "86\n",
      "88\n",
      "90\n",
      "92\n",
      "94\n",
      "96\n",
      "98\n",
      "100\n"
     ]
    }
   ],
   "source": [
    "# Create a while loop that will count by 2's starting with 0 and ending at 100. Follow each number with a new line.\n",
    "x = 0\n",
    "while x < 100:\n",
    "    print(x)\n",
    "    x +=2\n",
    "print(x)\n",
    "\n",
    "\n",
    "\n",
    "\n"
   ]
  },
  {
   "cell_type": "code",
   "execution_count": 12,
   "id": "8a8a7e85",
   "metadata": {},
   "outputs": [
    {
     "name": "stdout",
     "output_type": "stream",
     "text": [
      "100\n",
      "95\n",
      "90\n",
      "85\n",
      "80\n",
      "75\n",
      "70\n",
      "65\n",
      "60\n",
      "55\n",
      "50\n",
      "45\n",
      "40\n",
      "35\n",
      "30\n",
      "25\n",
      "20\n",
      "15\n",
      "10\n",
      "5\n",
      "0\n",
      "-5\n",
      "-10\n"
     ]
    }
   ],
   "source": [
    "# Alter your loop to count backwards by 5's from 100 to -10.\n",
    "x = 100\n",
    "while x > -10:\n",
    "    print(x)\n",
    "    x -=5\n",
    "print(x)"
   ]
  },
  {
   "cell_type": "code",
   "execution_count": 14,
   "id": "af746447",
   "metadata": {},
   "outputs": [
    {
     "name": "stdout",
     "output_type": "stream",
     "text": [
      "2\n",
      "4\n",
      "16\n",
      "256\n",
      "65536\n"
     ]
    }
   ],
   "source": [
    "# Create a while loop that starts at 2, and displays the number squared on each line while the number is less than 1,000,000.\n",
    "x = 2\n",
    "while x < 1000000:\n",
    "    print(x)\n",
    "    x *= x"
   ]
  },
  {
   "cell_type": "code",
   "execution_count": 15,
   "id": "2894642d",
   "metadata": {},
   "outputs": [
    {
     "name": "stdout",
     "output_type": "stream",
     "text": [
      "100\n",
      "95\n",
      "90\n",
      "85\n",
      "80\n",
      "75\n",
      "70\n",
      "65\n",
      "60\n",
      "55\n",
      "50\n",
      "45\n",
      "40\n",
      "35\n",
      "30\n",
      "25\n",
      "20\n",
      "15\n",
      "10\n",
      "5\n"
     ]
    }
   ],
   "source": [
    "#   - Write a loop that uses print to create the output shown below.\n",
    "x = 100\n",
    "while x > 0:\n",
    "    print(x)\n",
    "    x -= 5"
   ]
  },
  {
   "cell_type": "code",
   "execution_count": 18,
   "id": "9d4a1c57",
   "metadata": {},
   "outputs": [
    {
     "name": "stdout",
     "output_type": "stream",
     "text": [
      "Please enter the number to multiply4\n",
      " 4 * 1 is: 4\n",
      " 4 * 2 is: 8\n",
      " 4 * 3 is: 12\n",
      " 4 * 4 is: 16\n",
      " 4 * 5 is: 20\n",
      " 4 * 6 is: 24\n",
      " 4 * 7 is: 28\n",
      " 4 * 8 is: 32\n",
      " 4 * 9 is: 36\n",
      " 4 * 10 is: 40\n"
     ]
    }
   ],
   "source": [
    "# Write some code that prompts the user for a number, then shows a multiplication table up through 10 for that number.\n",
    "good_n = [1,2,3,4,5,6,7,8,9,10]\n",
    "x = input(\"Please enter the number to multiply\")\n",
    "if x.isnumeric() == True:\n",
    "    real_x = int(x)\n",
    "    for m in good_n:\n",
    "        answer = m * real_x\n",
    "        print(f\" {x} * {m} is: {answer}\")\n",
    "else:\n",
    "    print(\"Please enter a valid number\")"
   ]
  },
  {
   "cell_type": "code",
   "execution_count": 19,
   "id": "59768a00",
   "metadata": {},
   "outputs": [
    {
     "name": "stdout",
     "output_type": "stream",
     "text": [
      "1\n",
      "22\n",
      "333\n",
      "4444\n",
      "55555\n",
      "666666\n",
      "7777777\n",
      "88888888\n",
      "999999999\n"
     ]
    }
   ],
   "source": [
    "#Create a for loop that uses print to create the output shown below.\n",
    "\n",
    "for i in range(1,10):\n",
    "    print(str(i)*i)"
   ]
  },
  {
   "cell_type": "code",
   "execution_count": 22,
   "id": "c4607b1a",
   "metadata": {},
   "outputs": [
    {
     "name": "stdout",
     "output_type": "stream",
     "text": [
      "Please enter an odd number from 1-50: 13\n",
      "This is an odd number: 1\n",
      "This is an odd number: 3\n",
      "This is an odd number: 5\n",
      "This is an odd number: 7\n",
      "This is an odd number: 9\n",
      "This is an odd number: 11\n",
      " Skipping ... 13!!\n",
      "This is an odd number: 15\n",
      "This is an odd number: 17\n",
      "This is an odd number: 19\n",
      "This is an odd number: 21\n",
      "This is an odd number: 23\n",
      "This is an odd number: 25\n",
      "This is an odd number: 27\n",
      "This is an odd number: 29\n",
      "This is an odd number: 31\n",
      "This is an odd number: 33\n",
      "This is an odd number: 35\n",
      "This is an odd number: 37\n",
      "This is an odd number: 39\n",
      "This is an odd number: 41\n",
      "This is an odd number: 43\n",
      "This is an odd number: 45\n",
      "This is an odd number: 47\n",
      "This is an odd number: 49\n"
     ]
    }
   ],
   "source": [
    "# Prompt the user for an odd number between 1 and 50. Use a loop and a break statement to continue prompting the user if they enter invalid input. (Hint: use the isdigit method on strings to determine this). Use a loop and the continue statement to output all the odd numbers between 1 and 50, except for the number the user entered.\n",
    "\n",
    "# Your output should look like this:\n",
    "\n",
    "odd = input(\"Please enter an odd number from 1-50: \")\n",
    "if odd.isdigit() == True:\n",
    "    o = int(odd)\n",
    "# 50 isn't odd though... why not 49?\n",
    "    for num in range(50):\n",
    "        if o >=51 or o <=0:\n",
    "            print(\"That number isn't between 1 and 50.\")\n",
    "            break\n",
    "        elif o % 2 == 0:\n",
    "            print(\"You entered an even number, please enter an odd one.\") \n",
    "            break\n",
    "        elif num % 2 == 0:\n",
    "            continue\n",
    "        elif num == o:\n",
    "            print(f\" Skipping ... {o}!!\")\n",
    "        else:\n",
    "            print(f'This is an odd number: {num}')\n",
    "else:\n",
    "    print(\"Is not a valid Number.\")"
   ]
  },
  {
   "cell_type": "code",
   "execution_count": 1,
   "id": "da70dd4b",
   "metadata": {},
   "outputs": [
    {
     "name": "stdout",
     "output_type": "stream",
     "text": [
      "Please enter an even positive number: 4\n",
      "0\n",
      "1\n",
      "2\n",
      "3\n",
      "4\n",
      "done!\n"
     ]
    }
   ],
   "source": [
    "# The input function can be used to prompt for input and use that input in your python code.\n",
    "#Prompt the user to enter a positive number and write a loop that counts from 0 to that number. \n",
    "#(Hints: first make sure that the value the user entered is a valid number, also note that the input \n",
    "#function returns a string, so you'll need to convert this to a numeric type.)\n",
    "\n",
    "\n",
    "\n",
    "\n",
    "even = input(\"Please enter an even positive number: \")\n",
    "if even.isdigit() == True:\n",
    "    e = int(even)\n",
    "    z = 0\n",
    "    for num in range(e+1):\n",
    "        if e > 9000:\n",
    "            print(\"It's way to high.\")\n",
    "            break\n",
    "        elif e % 2 == 1:\n",
    "            print(\"You entered an ODD number, Please reread the instructions?\") \n",
    "            break\n",
    "        elif num == e:\n",
    "            print(num)\n",
    "            print(f\"done!\")\n",
    "        else:\n",
    "            print(z + num)\n",
    "else:\n",
    "    print(\"Is not a valid number.\")"
   ]
  },
  {
   "cell_type": "code",
   "execution_count": 2,
   "id": "baefdc24",
   "metadata": {},
   "outputs": [
    {
     "name": "stdout",
     "output_type": "stream",
     "text": [
      "Enter positive integer: 4\n",
      "4\n",
      "3\n",
      "2\n",
      "1\n"
     ]
    }
   ],
   "source": [
    "#Write a program that prompts the user for a positive integer. \n",
    "#Next write a loop that prints out the numbers from the number the user entered down to 1.\n",
    "n = input(\"Enter positive integer: \")\n",
    "if n.isdigit():\n",
    "    n = int(n)\n",
    "    if n > 0:       \n",
    "        x = n\n",
    "        while x > 0:\n",
    "            print(x)\n",
    "            x -= 1"
   ]
  },
  {
   "cell_type": "code",
   "execution_count": 3,
   "id": "1e5fad3d",
   "metadata": {},
   "outputs": [
    {
     "name": "stdout",
     "output_type": "stream",
     "text": [
      "1\n",
      "2\n",
      "Fizz!\n",
      "4\n",
      "Buzz!\n",
      "Fizz!\n",
      "7\n",
      "8\n",
      "Fizz!\n",
      "Buzz!\n",
      "11\n",
      "Fizz!\n",
      "13\n",
      "14\n",
      "FizzBuzz!!\n",
      "16\n",
      "17\n",
      "Fizz!\n",
      "19\n",
      "Buzz!\n",
      "Fizz!\n",
      "22\n",
      "23\n",
      "Fizz!\n",
      "Buzz!\n",
      "26\n",
      "Fizz!\n",
      "28\n",
      "29\n",
      "FizzBuzz!!\n",
      "31\n",
      "32\n",
      "Fizz!\n",
      "34\n",
      "Buzz!\n",
      "Fizz!\n",
      "37\n",
      "38\n",
      "Fizz!\n",
      "Buzz!\n",
      "41\n",
      "Fizz!\n",
      "43\n",
      "44\n",
      "FizzBuzz!!\n",
      "46\n",
      "47\n",
      "Fizz!\n",
      "49\n",
      "Buzz!\n",
      "Fizz!\n",
      "52\n",
      "53\n",
      "Fizz!\n",
      "Buzz!\n",
      "56\n",
      "Fizz!\n",
      "58\n",
      "59\n",
      "FizzBuzz!!\n",
      "61\n",
      "62\n",
      "Fizz!\n",
      "64\n",
      "Buzz!\n",
      "Fizz!\n",
      "67\n",
      "68\n",
      "Fizz!\n",
      "Buzz!\n",
      "71\n",
      "Fizz!\n",
      "73\n",
      "74\n",
      "FizzBuzz!!\n",
      "76\n",
      "77\n",
      "Fizz!\n",
      "79\n",
      "Buzz!\n",
      "Fizz!\n",
      "82\n",
      "83\n",
      "Fizz!\n",
      "Buzz!\n",
      "86\n",
      "Fizz!\n",
      "88\n",
      "89\n",
      "FizzBuzz!!\n",
      "91\n",
      "92\n",
      "Fizz!\n",
      "94\n",
      "Buzz!\n",
      "Fizz!\n",
      "97\n",
      "98\n",
      "Fizz!\n",
      "Buzz!\n"
     ]
    }
   ],
   "source": [
    "# One of the most common interview questions for entry-level programmers is the FizzBuzz test. \n",
    "# Developed by Imran Ghory, the test is designed to test basic looping and conditional logic skills.\n",
    "\n",
    "# Write a program that prints the numbers from 1 to 100.\n",
    "# For multiples of three print \"Fizz\" instead of the number\n",
    "# For the multiples of five print \"Buzz\".\n",
    "# For numbers which are multiples of both three and five print \"FizzBuzz\".\n",
    "\n",
    "for n in range(1,101):\n",
    "    if n % 3 == 0 and n % 5 == 0:\n",
    "        print(\"FizzBuzz!!\")\n",
    "    elif n % 3 == 0:\n",
    "        print(\"Fizz!\")\n",
    "    elif n % 5 == 0:\n",
    "        print(\"Buzz!\")\n",
    "    else:\n",
    "        print(n)"
   ]
  },
  {
   "cell_type": "code",
   "execution_count": null,
   "id": "08043c07",
   "metadata": {},
   "outputs": [],
   "source": []
  }
 ],
 "metadata": {
  "kernelspec": {
   "display_name": "Python 3 (ipykernel)",
   "language": "python",
   "name": "python3"
  },
  "language_info": {
   "codemirror_mode": {
    "name": "ipython",
    "version": 3
   },
   "file_extension": ".py",
   "mimetype": "text/x-python",
   "name": "python",
   "nbconvert_exporter": "python",
   "pygments_lexer": "ipython3",
   "version": "3.9.12"
  }
 },
 "nbformat": 4,
 "nbformat_minor": 5
}
