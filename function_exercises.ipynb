{
 "cells": [
  {
   "cell_type": "code",
   "execution_count": 1,
   "id": "fc4fe079",
   "metadata": {},
   "outputs": [
    {
     "data": {
      "text/plain": [
       "<function max>"
      ]
     },
     "execution_count": 1,
     "metadata": {},
     "output_type": "execute_result"
    }
   ],
   "source": [
    "max"
   ]
  },
  {
   "cell_type": "code",
   "execution_count": 2,
   "id": "ba9bc890",
   "metadata": {},
   "outputs": [
    {
     "data": {
      "text/plain": [
       "4"
      ]
     },
     "execution_count": 2,
     "metadata": {},
     "output_type": "execute_result"
    }
   ],
   "source": [
    "max([4,2,3,1])"
   ]
  },
  {
   "cell_type": "code",
   "execution_count": 3,
   "id": "fd7da4f0",
   "metadata": {},
   "outputs": [
    {
     "name": "stdout",
     "output_type": "stream",
     "text": [
      "4\n"
     ]
    }
   ],
   "source": [
    "maximum_number=max([4,2,3,1])\n",
    "print (maximum_number)"
   ]
  },
  {
   "cell_type": "code",
   "execution_count": 4,
   "id": "ac3ae288",
   "metadata": {},
   "outputs": [
    {
     "name": "stdout",
     "output_type": "stream",
     "text": [
      "the max is:4\n"
     ]
    }
   ],
   "source": [
    "print('the max is:'+str(max([4,2,3,1])))"
   ]
  },
  {
   "cell_type": "code",
   "execution_count": 5,
   "id": "861d7394",
   "metadata": {},
   "outputs": [],
   "source": [
    "def increment(n):\n",
    "    return n+1"
   ]
  },
  {
   "cell_type": "code",
   "execution_count": 6,
   "id": "42b46b43",
   "metadata": {},
   "outputs": [
    {
     "name": "stdout",
     "output_type": "stream",
     "text": [
      "6\n"
     ]
    }
   ],
   "source": [
    "six= increment(increment(increment(3)))\n",
    "print (six)\n"
   ]
  },
  {
   "cell_type": "code",
   "execution_count": 7,
   "id": "5af89b0d",
   "metadata": {},
   "outputs": [],
   "source": [
    "def add(a, b):\n",
    "    result = a + b\n",
    "    return result\n",
    "\n",
    "\n"
   ]
  },
  {
   "cell_type": "code",
   "execution_count": 8,
   "id": "38558abe",
   "metadata": {},
   "outputs": [],
   "source": [
    "x = 3\n"
   ]
  },
  {
   "cell_type": "code",
   "execution_count": 9,
   "id": "ebc9d9ef",
   "metadata": {},
   "outputs": [],
   "source": [
    "seven = add(x, 4)"
   ]
  },
  {
   "cell_type": "code",
   "execution_count": 11,
   "id": "2d7ee298",
   "metadata": {},
   "outputs": [
    {
     "name": "stdout",
     "output_type": "stream",
     "text": [
      "7\n"
     ]
    }
   ],
   "source": [
    "print(seven)\n"
   ]
  },
  {
   "cell_type": "code",
   "execution_count": 12,
   "id": "9c463fd1",
   "metadata": {},
   "outputs": [
    {
     "name": "stdout",
     "output_type": "stream",
     "text": [
      "HEY THERE!!!\n",
      "None\n"
     ]
    }
   ],
   "source": [
    "def shout(message):\n",
    "    print(message.upper() + '!!!')\n",
    "\n",
    "return_value = shout('hey there')\n",
    "print(return_value)\n"
   ]
  },
  {
   "cell_type": "code",
   "execution_count": 13,
   "id": "88783030",
   "metadata": {},
   "outputs": [
    {
     "name": "stdout",
     "output_type": "stream",
     "text": [
      "Hey there!\n"
     ]
    }
   ],
   "source": [
    "def sayhello():\n",
    "    print('Hey there!')\n",
    "\n",
    "sayhello()\n"
   ]
  },
  {
   "cell_type": "code",
   "execution_count": 14,
   "id": "66894652",
   "metadata": {},
   "outputs": [
    {
     "ename": "TypeError",
     "evalue": "sayhello() takes 0 positional arguments but 1 was given",
     "output_type": "error",
     "traceback": [
      "\u001b[0;31m---------------------------------------------------------------------------\u001b[0m",
      "\u001b[0;31mTypeError\u001b[0m                                 Traceback (most recent call last)",
      "Input \u001b[0;32mIn [14]\u001b[0m, in \u001b[0;36m<cell line: 1>\u001b[0;34m()\u001b[0m\n\u001b[0;32m----> 1\u001b[0m \u001b[43msayhello\u001b[49m\u001b[43m(\u001b[49m\u001b[38;5;241;43m123\u001b[39;49m\u001b[43m)\u001b[49m\n",
      "\u001b[0;31mTypeError\u001b[0m: sayhello() takes 0 positional arguments but 1 was given"
     ]
    }
   ],
   "source": [
    "sayhello(123)\n"
   ]
  },
  {
   "cell_type": "code",
   "execution_count": 15,
   "id": "086ee902",
   "metadata": {},
   "outputs": [],
   "source": [
    "def sayhello(name='World', greeting='Hello'):\n",
    "    return '{}, {}!'.format(greeting, name)\n"
   ]
  },
  {
   "cell_type": "code",
   "execution_count": 16,
   "id": "4c538252",
   "metadata": {},
   "outputs": [
    {
     "data": {
      "text/plain": [
       "'Hello, World!'"
      ]
     },
     "execution_count": 16,
     "metadata": {},
     "output_type": "execute_result"
    }
   ],
   "source": [
    "sayhello()\n"
   ]
  },
  {
   "cell_type": "code",
   "execution_count": 17,
   "id": "3537c3a8",
   "metadata": {},
   "outputs": [
    {
     "data": {
      "text/plain": [
       "'Hello, Codeup!'"
      ]
     },
     "execution_count": 17,
     "metadata": {},
     "output_type": "execute_result"
    }
   ],
   "source": [
    "sayhello('Codeup')\n"
   ]
  },
  {
   "cell_type": "code",
   "execution_count": 18,
   "id": "27cd3246",
   "metadata": {},
   "outputs": [
    {
     "data": {
      "text/plain": [
       "'Salutations, Codeup!'"
      ]
     },
     "execution_count": 18,
     "metadata": {},
     "output_type": "execute_result"
    }
   ],
   "source": [
    "sayhello('Codeup', 'Salutations')\n"
   ]
  },
  {
   "cell_type": "code",
   "execution_count": 19,
   "id": "6236ecc2",
   "metadata": {},
   "outputs": [
    {
     "ename": "SyntaxError",
     "evalue": "positional argument follows keyword argument (777441615.py, line 1)",
     "output_type": "error",
     "traceback": [
      "\u001b[0;36m  Input \u001b[0;32mIn [19]\u001b[0;36m\u001b[0m\n\u001b[0;31m    sayhello(greeting='Salutations', 'Codeup') # ERROR!\u001b[0m\n\u001b[0m                                             ^\u001b[0m\n\u001b[0;31mSyntaxError\u001b[0m\u001b[0;31m:\u001b[0m positional argument follows keyword argument\n"
     ]
    }
   ],
   "source": [
    "sayhello(greeting='Salutations', 'Codeup') # ERROR!\n"
   ]
  },
  {
   "cell_type": "code",
   "execution_count": 20,
   "id": "c565ce24",
   "metadata": {},
   "outputs": [
    {
     "data": {
      "text/plain": [
       "'Salutations, Codeup!'"
      ]
     },
     "execution_count": 20,
     "metadata": {},
     "output_type": "execute_result"
    }
   ],
   "source": [
    "args = ['Codeup', 'Salutations']\n",
    "\n",
    "sayhello(*args)\n"
   ]
  },
  {
   "cell_type": "code",
   "execution_count": 21,
   "id": "d5253b01",
   "metadata": {},
   "outputs": [
    {
     "data": {
      "text/plain": [
       "'Salutations, Codeup!'"
      ]
     },
     "execution_count": 21,
     "metadata": {},
     "output_type": "execute_result"
    }
   ],
   "source": [
    "kwargs = {'greeting': 'Salutations', 'name': 'Codeup'}\n",
    "\n",
    "sayhello(**kwargs)\n"
   ]
  },
  {
   "cell_type": "code",
   "execution_count": 24,
   "id": "5bb5448d",
   "metadata": {},
   "outputs": [
    {
     "name": "stdout",
     "output_type": "stream",
     "text": [
      "Inside the function: 42\n",
      "Outside the function: 42\n"
     ]
    }
   ],
   "source": [
    "a_global_variable = 42\n",
    "\n",
    "def somefunction():\n",
    "    print('Inside the function: %s' % a_global_variable)\n",
    "\n",
    "somefunction()\n",
    "print('Outside the function: %s' % a_global_variable)\n"
   ]
  },
  {
   "cell_type": "code",
   "execution_count": 25,
   "id": "dd5f6cbc",
   "metadata": {},
   "outputs": [
    {
     "name": "stdout",
     "output_type": "stream",
     "text": [
      "Inside the function: pizza\n"
     ]
    },
    {
     "ename": "NameError",
     "evalue": "name 'a_local_variable' is not defined",
     "output_type": "error",
     "traceback": [
      "\u001b[0;31m---------------------------------------------------------------------------\u001b[0m",
      "\u001b[0;31mNameError\u001b[0m                                 Traceback (most recent call last)",
      "Input \u001b[0;32mIn [25]\u001b[0m, in \u001b[0;36m<cell line: 6>\u001b[0;34m()\u001b[0m\n\u001b[1;32m      3\u001b[0m     \u001b[38;5;28mprint\u001b[39m(\u001b[38;5;124m'\u001b[39m\u001b[38;5;124mInside the function: \u001b[39m\u001b[38;5;132;01m%s\u001b[39;00m\u001b[38;5;124m'\u001b[39m \u001b[38;5;241m%\u001b[39m a_local_variable)\n\u001b[1;32m      5\u001b[0m somefunction()\n\u001b[0;32m----> 6\u001b[0m \u001b[38;5;28mprint\u001b[39m(\u001b[38;5;124m'\u001b[39m\u001b[38;5;124mOutside the function: \u001b[39m\u001b[38;5;132;01m%s\u001b[39;00m\u001b[38;5;124m'\u001b[39m \u001b[38;5;241m%\u001b[39m \u001b[43ma_local_variable\u001b[49m)\n",
      "\u001b[0;31mNameError\u001b[0m: name 'a_local_variable' is not defined"
     ]
    }
   ],
   "source": [
    "def somefunction():\n",
    "    a_local_variable = 'pizza'\n",
    "    print('Inside the function: %s' % a_local_variable)\n",
    "\n",
    "somefunction()\n",
    "print('Outside the function: %s' % a_local_variable)\n"
   ]
  },
  {
   "cell_type": "code",
   "execution_count": 26,
   "id": "e92cbb91",
   "metadata": {},
   "outputs": [
    {
     "name": "stdout",
     "output_type": "stream",
     "text": [
      "Outside the function, n == 123\n",
      "Inside the function, n == 7\n",
      "Outside the function, n == 123\n"
     ]
    }
   ],
   "source": [
    "n = 123\n",
    "\n",
    "def somefunction():\n",
    "    n = 10\n",
    "    n = n - 3\n",
    "    print('Inside the function, n == %s' % n)\n",
    "\n",
    "print('Outside the function, n == %s' % n)\n",
    "somefunction()\n",
    "print('Outside the function, n == %s' % n)\n",
    "\n"
   ]
  },
  {
   "cell_type": "code",
   "execution_count": 27,
   "id": "c5c7a4cb",
   "metadata": {},
   "outputs": [
    {
     "data": {
      "text/plain": [
       "10"
      ]
     },
     "execution_count": 27,
     "metadata": {},
     "output_type": "execute_result"
    }
   ],
   "source": [
    "add_one = lambda n: n + 1\n",
    "add_one(9)\n"
   ]
  },
  {
   "cell_type": "code",
   "execution_count": 28,
   "id": "0ce9adec",
   "metadata": {},
   "outputs": [
    {
     "data": {
      "text/plain": [
       "81"
      ]
     },
     "execution_count": 28,
     "metadata": {},
     "output_type": "execute_result"
    }
   ],
   "source": [
    "square = lambda n: n ** 2\n",
    "square(9)\n"
   ]
  },
  {
   "cell_type": "code",
   "execution_count": 42,
   "id": "334f00c6",
   "metadata": {},
   "outputs": [],
   "source": [
    "# Define a function named is_two.\n",
    "# It should accept one input and return True if the passed input is either the number or the string 2, False otherwise.\n",
    "\n",
    "def is_two(n):\n",
    "    if n == '2'or n== 2:\n",
    "        return True\n",
    "    else:\n",
    "        return False\n"
   ]
  },
  {
   "cell_type": "code",
   "execution_count": 43,
   "id": "e78a01ae",
   "metadata": {},
   "outputs": [
    {
     "data": {
      "text/plain": [
       "True"
      ]
     },
     "execution_count": 43,
     "metadata": {},
     "output_type": "execute_result"
    }
   ],
   "source": [
    "is_two(2)\n"
   ]
  },
  {
   "cell_type": "code",
   "execution_count": 44,
   "id": "997938f8",
   "metadata": {},
   "outputs": [
    {
     "data": {
      "text/plain": [
       "True"
      ]
     },
     "execution_count": 44,
     "metadata": {},
     "output_type": "execute_result"
    }
   ],
   "source": [
    "is_two('2')"
   ]
  },
  {
   "cell_type": "code",
   "execution_count": 45,
   "id": "d238c2c1",
   "metadata": {},
   "outputs": [
    {
     "data": {
      "text/plain": [
       "True"
      ]
     },
     "execution_count": 45,
     "metadata": {},
     "output_type": "execute_result"
    }
   ],
   "source": [
    "is_two(\"2\")"
   ]
  },
  {
   "cell_type": "code",
   "execution_count": 46,
   "id": "1b94f65e",
   "metadata": {},
   "outputs": [
    {
     "data": {
      "text/plain": [
       "False"
      ]
     },
     "execution_count": 46,
     "metadata": {},
     "output_type": "execute_result"
    }
   ],
   "source": [
    "is_two(9)"
   ]
  },
  {
   "cell_type": "code",
   "execution_count": 75,
   "id": "b7c48745",
   "metadata": {},
   "outputs": [],
   "source": [
    "#Define a function named is_vowel. It should return True if the passed string is a vowel, False otherwise.\n",
    "\n",
    "def is_vowel(str):\n",
    "    for char in str:\n",
    "        if char in \"aeiouAEIOU\":\n",
    "            return True\n",
    "        else: \n",
    "            return False"
   ]
  },
  {
   "cell_type": "code",
   "execution_count": 199,
   "id": "c9826c90",
   "metadata": {},
   "outputs": [
    {
     "data": {
      "text/plain": [
       "False"
      ]
     },
     "execution_count": 199,
     "metadata": {},
     "output_type": "execute_result"
    }
   ],
   "source": [
    "is_vowel('famous')"
   ]
  },
  {
   "cell_type": "code",
   "execution_count": 77,
   "id": "abe9872a",
   "metadata": {},
   "outputs": [
    {
     "data": {
      "text/plain": [
       "True"
      ]
     },
     "execution_count": 77,
     "metadata": {},
     "output_type": "execute_result"
    }
   ],
   "source": [
    "is_vowel('a')"
   ]
  },
  {
   "cell_type": "code",
   "execution_count": 79,
   "id": "dafe379d",
   "metadata": {},
   "outputs": [
    {
     "data": {
      "text/plain": [
       "True"
      ]
     },
     "execution_count": 79,
     "metadata": {},
     "output_type": "execute_result"
    }
   ],
   "source": [
    "is_vowel(\"o\")"
   ]
  },
  {
   "cell_type": "code",
   "execution_count": 80,
   "id": "d37f39b7",
   "metadata": {},
   "outputs": [
    {
     "data": {
      "text/plain": [
       "True"
      ]
     },
     "execution_count": 80,
     "metadata": {},
     "output_type": "execute_result"
    }
   ],
   "source": [
    "is_vowel(\"O\")"
   ]
  },
  {
   "cell_type": "code",
   "execution_count": 81,
   "id": "21a9e266",
   "metadata": {},
   "outputs": [
    {
     "data": {
      "text/plain": [
       "True"
      ]
     },
     "execution_count": 81,
     "metadata": {},
     "output_type": "execute_result"
    }
   ],
   "source": [
    "is_vowel(\"A\")"
   ]
  },
  {
   "cell_type": "code",
   "execution_count": 82,
   "id": "8f83e136",
   "metadata": {},
   "outputs": [],
   "source": [
    "# Define a function named is_consonant. It should return True if the passed string is a consonant, \n",
    "# False otherwise. Use your is_vowel function to accomplish this.\n",
    "\n",
    "def is_consonant(str):\n",
    "     for char in str:\n",
    "        if char in \"aeiouAEIOU\":\n",
    "            return False\n",
    "        else: \n",
    "            return True"
   ]
  },
  {
   "cell_type": "code",
   "execution_count": 83,
   "id": "164e39d7",
   "metadata": {},
   "outputs": [
    {
     "data": {
      "text/plain": [
       "True"
      ]
     },
     "execution_count": 83,
     "metadata": {},
     "output_type": "execute_result"
    }
   ],
   "source": [
    "is_consonant('f')"
   ]
  },
  {
   "cell_type": "code",
   "execution_count": 84,
   "id": "daca4fb5",
   "metadata": {},
   "outputs": [
    {
     "data": {
      "text/plain": [
       "False"
      ]
     },
     "execution_count": 84,
     "metadata": {},
     "output_type": "execute_result"
    }
   ],
   "source": [
    "is_consonant('o')"
   ]
  },
  {
   "cell_type": "code",
   "execution_count": 85,
   "id": "14576acd",
   "metadata": {},
   "outputs": [
    {
     "data": {
      "text/plain": [
       "True"
      ]
     },
     "execution_count": 85,
     "metadata": {},
     "output_type": "execute_result"
    }
   ],
   "source": [
    "is_consonant('1')"
   ]
  },
  {
   "cell_type": "code",
   "execution_count": 129,
   "id": "d176db3b",
   "metadata": {},
   "outputs": [],
   "source": [
    "# define a function that accepts a string that is a word.\n",
    "# The function should capitalize the first letter of the word if the word starts with a consonant.\n",
    "\n",
    "def wordcap(str):\n",
    "     for char in str:\n",
    "   \n",
    "        if char in \"aeiouAEIOU\":\n",
    "            return str\n",
    "        else: \n",
    "            return str.capitalize()"
   ]
  },
  {
   "cell_type": "code",
   "execution_count": 130,
   "id": "2d2c8723",
   "metadata": {},
   "outputs": [
    {
     "data": {
      "text/plain": [
       "'Dogcatcqat'"
      ]
     },
     "execution_count": 130,
     "metadata": {},
     "output_type": "execute_result"
    }
   ],
   "source": [
    "wordcap('dogcatcqat')"
   ]
  },
  {
   "cell_type": "code",
   "execution_count": 90,
   "id": "6d7eaac0",
   "metadata": {},
   "outputs": [
    {
     "data": {
      "text/plain": [
       "'igloo'"
      ]
     },
     "execution_count": 90,
     "metadata": {},
     "output_type": "execute_result"
    }
   ],
   "source": [
    "wordcap('igloo')"
   ]
  },
  {
   "cell_type": "code",
   "execution_count": 91,
   "id": "2c9a9b14",
   "metadata": {},
   "outputs": [
    {
     "data": {
      "text/plain": [
       "'Bird'"
      ]
     },
     "execution_count": 91,
     "metadata": {},
     "output_type": "execute_result"
    }
   ],
   "source": [
    "wordcap('bird')"
   ]
  },
  {
   "cell_type": "code",
   "execution_count": 92,
   "id": "66e0ce54",
   "metadata": {},
   "outputs": [
    {
     "data": {
      "text/plain": [
       "'apple'"
      ]
     },
     "execution_count": 92,
     "metadata": {},
     "output_type": "execute_result"
    }
   ],
   "source": [
    "wordcap('apple')"
   ]
  },
  {
   "cell_type": "code",
   "execution_count": 118,
   "id": "de58ada2",
   "metadata": {},
   "outputs": [],
   "source": [
    "# Define a function named calculate_tip. It should accept a tip percentage (a number between 0 and 1) \n",
    "# and the bill total, and return the amount to tip.\n",
    "\n",
    "def calculate_tip(bill,percent):\n",
    "    if percent >= 1:\n",
    "        return 'input error percent must be less than 1'\n",
    "    else:\n",
    "        return percent*bill"
   ]
  },
  {
   "cell_type": "code",
   "execution_count": 119,
   "id": "6b11c40e",
   "metadata": {},
   "outputs": [
    {
     "data": {
      "text/plain": [
       "'input error percent must be less than 1'"
      ]
     },
     "execution_count": 119,
     "metadata": {},
     "output_type": "execute_result"
    }
   ],
   "source": [
    "calculate_tip(5,1)"
   ]
  },
  {
   "cell_type": "code",
   "execution_count": 120,
   "id": "df74a3c8",
   "metadata": {},
   "outputs": [
    {
     "data": {
      "text/plain": [
       "5.5"
      ]
     },
     "execution_count": 120,
     "metadata": {},
     "output_type": "execute_result"
    }
   ],
   "source": [
    "calculate_tip(5,.1)"
   ]
  },
  {
   "cell_type": "code",
   "execution_count": 121,
   "id": "4c0f75ef",
   "metadata": {},
   "outputs": [
    {
     "data": {
      "text/plain": [
       "6.25"
      ]
     },
     "execution_count": 121,
     "metadata": {},
     "output_type": "execute_result"
    }
   ],
   "source": [
    "calculate_tip(5,.25)"
   ]
  },
  {
   "cell_type": "code",
   "execution_count": 122,
   "id": "e861ef57",
   "metadata": {},
   "outputs": [
    {
     "data": {
      "text/plain": [
       "9.95"
      ]
     },
     "execution_count": 122,
     "metadata": {},
     "output_type": "execute_result"
    }
   ],
   "source": [
    "calculate_tip(5,.99)"
   ]
  },
  {
   "cell_type": "code",
   "execution_count": 127,
   "id": "6109a37f",
   "metadata": {},
   "outputs": [],
   "source": [
    "# Define a function named apply_discount.\n",
    "# It should accept a original price, and a discount percentage, and return the price after the discount is applied.\n",
    "\n",
    "def apply_discount(bill,discount):\n",
    "     if discount >= 1:\n",
    "        return 'input error percent must be less than 1'\n",
    "     else:\n",
    "        return -discount*bill+bill"
   ]
  },
  {
   "cell_type": "code",
   "execution_count": 128,
   "id": "8f821c64",
   "metadata": {},
   "outputs": [
    {
     "data": {
      "text/plain": [
       "11.25"
      ]
     },
     "execution_count": 128,
     "metadata": {},
     "output_type": "execute_result"
    }
   ],
   "source": [
    "apply_discount(15,.25)"
   ]
  },
  {
   "cell_type": "code",
   "execution_count": 155,
   "id": "c6016bc3",
   "metadata": {},
   "outputs": [],
   "source": [
    "# Define a function named handle_commas. \n",
    "# It should accept a string that is a number that contains commas in it as input, and return a number as output.\n",
    "\n",
    "def handle_commas(number):\n",
    "    newstring = \"\"\n",
    "    for char in number:\n",
    "        if char != \",\":\n",
    "            newstring = newstring + char\n",
    "    print(newstring)"
   ]
  },
  {
   "cell_type": "code",
   "execution_count": 156,
   "id": "2ea5b503",
   "metadata": {},
   "outputs": [
    {
     "name": "stdout",
     "output_type": "stream",
     "text": [
      "1001\n"
     ]
    }
   ],
   "source": [
    "handle_commas(\"1,001\")"
   ]
  },
  {
   "cell_type": "code",
   "execution_count": 157,
   "id": "e7b07681",
   "metadata": {},
   "outputs": [
    {
     "name": "stdout",
     "output_type": "stream",
     "text": [
      "1001000000\n"
     ]
    }
   ],
   "source": [
    "handle_commas(\"1,001,000,000\")"
   ]
  },
  {
   "cell_type": "code",
   "execution_count": 168,
   "id": "569ef935",
   "metadata": {},
   "outputs": [],
   "source": [
    "# Define a function named get_letter_grade. \n",
    "# It should accept a number and return the letter grade associated with that number (A-F).\n",
    "\n",
    "def get_letter_grade(grade):\n",
    "    if grade>=(90):\n",
    "        return 'Grade is a A'\n",
    "    elif grade>=(80):\n",
    "        return 'Grade is a B'\n",
    "    elif grade>=(70):\n",
    "        return 'Grade is a C'\n",
    "    elif grade>=(60):\n",
    "        return 'Grade is a D'\n",
    "    elif grade<=(60):\n",
    "        return 'Grade is a F'"
   ]
  },
  {
   "cell_type": "code",
   "execution_count": 169,
   "id": "7dbb8e63",
   "metadata": {},
   "outputs": [
    {
     "data": {
      "text/plain": [
       "'Grade is a A'"
      ]
     },
     "execution_count": 169,
     "metadata": {},
     "output_type": "execute_result"
    }
   ],
   "source": [
    "get_letter_grade(95)"
   ]
  },
  {
   "cell_type": "code",
   "execution_count": 170,
   "id": "89c5eaa2",
   "metadata": {},
   "outputs": [
    {
     "data": {
      "text/plain": [
       "'Grade is a B'"
      ]
     },
     "execution_count": 170,
     "metadata": {},
     "output_type": "execute_result"
    }
   ],
   "source": [
    "get_letter_grade(85)"
   ]
  },
  {
   "cell_type": "code",
   "execution_count": 171,
   "id": "0dbc523b",
   "metadata": {},
   "outputs": [
    {
     "data": {
      "text/plain": [
       "'Grade is a C'"
      ]
     },
     "execution_count": 171,
     "metadata": {},
     "output_type": "execute_result"
    }
   ],
   "source": [
    "get_letter_grade(75)"
   ]
  },
  {
   "cell_type": "code",
   "execution_count": 172,
   "id": "69efa859",
   "metadata": {},
   "outputs": [
    {
     "data": {
      "text/plain": [
       "'Grade is a D'"
      ]
     },
     "execution_count": 172,
     "metadata": {},
     "output_type": "execute_result"
    }
   ],
   "source": [
    "get_letter_grade(65)"
   ]
  },
  {
   "cell_type": "code",
   "execution_count": 173,
   "id": "8eca7171",
   "metadata": {},
   "outputs": [
    {
     "data": {
      "text/plain": [
       "'Grade is a F'"
      ]
     },
     "execution_count": 173,
     "metadata": {},
     "output_type": "execute_result"
    }
   ],
   "source": [
    "get_letter_grade(55)"
   ]
  },
  {
   "cell_type": "code",
   "execution_count": 174,
   "id": "e3f33ffb",
   "metadata": {},
   "outputs": [
    {
     "data": {
      "text/plain": [
       "'Grade is a F'"
      ]
     },
     "execution_count": 174,
     "metadata": {},
     "output_type": "execute_result"
    }
   ],
   "source": [
    "get_letter_grade(5)"
   ]
  },
  {
   "cell_type": "code",
   "execution_count": 182,
   "id": "883014b8",
   "metadata": {},
   "outputs": [],
   "source": [
    "# Define a function named remove_vowels that accepts a string and returns a string with all the vowels removed.\n",
    "\n",
    "def remove_vowels(word):\n",
    "    newstring = \"\"\n",
    "    for char in word:\n",
    "        if char not in \"aeiouAEIOU\":\n",
    "            newstring = newstring + char\n",
    "    print(newstring)"
   ]
  },
  {
   "cell_type": "code",
   "execution_count": 183,
   "id": "e5e4ab3a",
   "metadata": {},
   "outputs": [
    {
     "name": "stdout",
     "output_type": "stream",
     "text": [
      "dg\n"
     ]
    }
   ],
   "source": [
    "remove_vowels('dog')"
   ]
  },
  {
   "cell_type": "code",
   "execution_count": 184,
   "id": "0651f0fe",
   "metadata": {},
   "outputs": [
    {
     "name": "stdout",
     "output_type": "stream",
     "text": [
      "nmtp\n"
     ]
    }
   ],
   "source": [
    "remove_vowels('Onomatopoeia')"
   ]
  },
  {
   "cell_type": "code",
   "execution_count": 201,
   "id": "bff5b210",
   "metadata": {},
   "outputs": [],
   "source": [
    "# Define a function named normalize_name. It should accept a string and return a valid python identifier, that is:\n",
    "# anything that is not a valid python identifier should be removed\n",
    "# leading and trailing whitespace should be removed\n",
    "# everything should be lowercase\n",
    "# spaces should be replaced with underscores\n",
    "# for example:\n",
    "# Name will become name\n",
    "# First Name will become first_name\n",
    "# % Completed will become completed\n",
    "\n",
    "\n",
    "\n",
    "import re\n",
    "def normalize_name(name):\n",
    "    lower_name=''\n",
    "    no_punc_name=''\n",
    "    lower_name = name.lower()\n",
    "    no_punc_name = re.sub(r'[^\\w\\s]','', lower_name)\n",
    "    no_punc_name.replace(\" \", \"_\") \n",
    "    print( no_punc_name)"
   ]
  },
  {
   "cell_type": "code",
   "execution_count": 202,
   "id": "59554cdf",
   "metadata": {},
   "outputs": [
    {
     "name": "stdout",
     "output_type": "stream",
     "text": [
      "bags of air\n"
     ]
    }
   ],
   "source": [
    "normalize_name('Bag*s of Air')"
   ]
  },
  {
   "cell_type": "code",
   "execution_count": 1,
   "id": "e1ddd4b9",
   "metadata": {},
   "outputs": [],
   "source": [
    "# Write a function named cumulative_sum that accepts a list of numbers and returns a list that is the cumulative sum of the numbers in the list.\n",
    "# cumulative_sum([1, 1, 1]) returns [1, 2, 3]\n",
    "# cumulative_sum([1, 2, 3, 4]) returns [1, 3, 6, 10]\n",
    "\n",
    "\n",
    "def cumulative_sum(list):\n",
    "    return [sum(list[:n]) for n in list]"
   ]
  },
  {
   "cell_type": "code",
   "execution_count": 3,
   "id": "9508511d",
   "metadata": {},
   "outputs": [
    {
     "data": {
      "text/plain": [
       "[1, 3, 6, 10, 15, 21]"
      ]
     },
     "execution_count": 3,
     "metadata": {},
     "output_type": "execute_result"
    }
   ],
   "source": [
    "cumulative_sum([1,2,3,4,5,6])"
   ]
  },
  {
   "cell_type": "code",
   "execution_count": null,
   "id": "32d6c4ec",
   "metadata": {},
   "outputs": [],
   "source": []
  }
 ],
 "metadata": {
  "kernelspec": {
   "display_name": "Python 3 (ipykernel)",
   "language": "python",
   "name": "python3"
  },
  "language_info": {
   "codemirror_mode": {
    "name": "ipython",
    "version": 3
   },
   "file_extension": ".py",
   "mimetype": "text/x-python",
   "name": "python",
   "nbconvert_exporter": "python",
   "pygments_lexer": "ipython3",
   "version": "3.9.12"
  }
 },
 "nbformat": 4,
 "nbformat_minor": 5
}
